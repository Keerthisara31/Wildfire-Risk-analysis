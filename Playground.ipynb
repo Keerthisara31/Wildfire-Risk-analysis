{
 "cells": [
  {
   "cell_type": "code",
   "execution_count": 1,
   "id": "e1fe8ebe-4ae9-4e88-b891-702201286d7b",
   "metadata": {},
   "outputs": [
    {
     "name": "stdout",
     "output_type": "stream",
     "text": [
      " Volume in drive C is Windows-SSD\n",
      " Volume Serial Number is DA12-76BE\n",
      "\n",
      " Directory of C:\\Workspace\\Qriocity\\Assignments\\Wildfire\n",
      "\n",
      "26-07-2025  11:42    <DIR>          .\n",
      "26-07-2025  11:39    <DIR>          ..\n",
      "26-07-2025  11:42    <DIR>          .ipynb_checkpoints\n",
      "26-07-2025  11:39    <DIR>          modis_2024_all_countries\n",
      "26-07-2025  11:39        84,548,676 modis_2024_all_countries.zip\n",
      "26-07-2025  11:42               337 Untitled.ipynb\n",
      "               2 File(s)     84,549,013 bytes\n",
      "               4 Dir(s)   4,410,974,208 bytes free\n"
     ]
    }
   ],
   "source": [
    "ls"
   ]
  },
  {
   "cell_type": "code",
   "execution_count": 1,
   "id": "d7a7359d-cb87-4999-857b-a96ff931f994",
   "metadata": {},
   "outputs": [],
   "source": [
    "import pandas as pd\n",
    "\n",
    "df = pd.read_csv(\"modis_2024_all_countries/modis_2024_United_Kingdom.csv\")"
   ]
  },
  {
   "cell_type": "code",
   "execution_count": 2,
   "id": "19f6f05d-91de-4ffa-9176-44944c9d0c5f",
   "metadata": {},
   "outputs": [
    {
     "data": {
      "text/html": [
       "<div>\n",
       "<style scoped>\n",
       "    .dataframe tbody tr th:only-of-type {\n",
       "        vertical-align: middle;\n",
       "    }\n",
       "\n",
       "    .dataframe tbody tr th {\n",
       "        vertical-align: top;\n",
       "    }\n",
       "\n",
       "    .dataframe thead th {\n",
       "        text-align: right;\n",
       "    }\n",
       "</style>\n",
       "<table border=\"1\" class=\"dataframe\">\n",
       "  <thead>\n",
       "    <tr style=\"text-align: right;\">\n",
       "      <th></th>\n",
       "      <th>latitude</th>\n",
       "      <th>longitude</th>\n",
       "      <th>brightness</th>\n",
       "      <th>scan</th>\n",
       "      <th>track</th>\n",
       "      <th>acq_date</th>\n",
       "      <th>acq_time</th>\n",
       "      <th>satellite</th>\n",
       "      <th>instrument</th>\n",
       "      <th>confidence</th>\n",
       "      <th>version</th>\n",
       "      <th>bright_t31</th>\n",
       "      <th>frp</th>\n",
       "      <th>daynight</th>\n",
       "      <th>type</th>\n",
       "    </tr>\n",
       "  </thead>\n",
       "  <tbody>\n",
       "    <tr>\n",
       "      <th>0</th>\n",
       "      <td>51.5638</td>\n",
       "      <td>-3.7686</td>\n",
       "      <td>304.9</td>\n",
       "      <td>1.0</td>\n",
       "      <td>1.0</td>\n",
       "      <td>2024-01-09</td>\n",
       "      <td>1043</td>\n",
       "      <td>Terra</td>\n",
       "      <td>MODIS</td>\n",
       "      <td>0</td>\n",
       "      <td>61.03</td>\n",
       "      <td>273.8</td>\n",
       "      <td>11.2</td>\n",
       "      <td>D</td>\n",
       "      <td>2</td>\n",
       "    </tr>\n",
       "    <tr>\n",
       "      <th>1</th>\n",
       "      <td>51.5757</td>\n",
       "      <td>-3.7687</td>\n",
       "      <td>301.1</td>\n",
       "      <td>2.0</td>\n",
       "      <td>1.4</td>\n",
       "      <td>2024-01-22</td>\n",
       "      <td>336</td>\n",
       "      <td>Aqua</td>\n",
       "      <td>MODIS</td>\n",
       "      <td>38</td>\n",
       "      <td>61.03</td>\n",
       "      <td>279.1</td>\n",
       "      <td>23.7</td>\n",
       "      <td>N</td>\n",
       "      <td>2</td>\n",
       "    </tr>\n",
       "    <tr>\n",
       "      <th>2</th>\n",
       "      <td>58.1543</td>\n",
       "      <td>-5.1865</td>\n",
       "      <td>344.9</td>\n",
       "      <td>1.6</td>\n",
       "      <td>1.2</td>\n",
       "      <td>2024-01-28</td>\n",
       "      <td>1402</td>\n",
       "      <td>Aqua</td>\n",
       "      <td>MODIS</td>\n",
       "      <td>81</td>\n",
       "      <td>61.03</td>\n",
       "      <td>280.5</td>\n",
       "      <td>105.4</td>\n",
       "      <td>D</td>\n",
       "      <td>0</td>\n",
       "    </tr>\n",
       "    <tr>\n",
       "      <th>3</th>\n",
       "      <td>58.1680</td>\n",
       "      <td>-5.1696</td>\n",
       "      <td>352.8</td>\n",
       "      <td>1.6</td>\n",
       "      <td>1.2</td>\n",
       "      <td>2024-01-28</td>\n",
       "      <td>1402</td>\n",
       "      <td>Aqua</td>\n",
       "      <td>MODIS</td>\n",
       "      <td>71</td>\n",
       "      <td>61.03</td>\n",
       "      <td>280.0</td>\n",
       "      <td>132.5</td>\n",
       "      <td>D</td>\n",
       "      <td>0</td>\n",
       "    </tr>\n",
       "    <tr>\n",
       "      <th>4</th>\n",
       "      <td>58.1548</td>\n",
       "      <td>-5.1937</td>\n",
       "      <td>334.7</td>\n",
       "      <td>1.6</td>\n",
       "      <td>1.2</td>\n",
       "      <td>2024-01-28</td>\n",
       "      <td>1402</td>\n",
       "      <td>Aqua</td>\n",
       "      <td>MODIS</td>\n",
       "      <td>80</td>\n",
       "      <td>61.03</td>\n",
       "      <td>280.8</td>\n",
       "      <td>69.7</td>\n",
       "      <td>D</td>\n",
       "      <td>0</td>\n",
       "    </tr>\n",
       "  </tbody>\n",
       "</table>\n",
       "</div>"
      ],
      "text/plain": [
       "   latitude  longitude  brightness  scan  track    acq_date  acq_time  \\\n",
       "0   51.5638    -3.7686       304.9   1.0    1.0  2024-01-09      1043   \n",
       "1   51.5757    -3.7687       301.1   2.0    1.4  2024-01-22       336   \n",
       "2   58.1543    -5.1865       344.9   1.6    1.2  2024-01-28      1402   \n",
       "3   58.1680    -5.1696       352.8   1.6    1.2  2024-01-28      1402   \n",
       "4   58.1548    -5.1937       334.7   1.6    1.2  2024-01-28      1402   \n",
       "\n",
       "  satellite instrument  confidence  version  bright_t31    frp daynight  type  \n",
       "0     Terra      MODIS           0    61.03       273.8   11.2        D     2  \n",
       "1      Aqua      MODIS          38    61.03       279.1   23.7        N     2  \n",
       "2      Aqua      MODIS          81    61.03       280.5  105.4        D     0  \n",
       "3      Aqua      MODIS          71    61.03       280.0  132.5        D     0  \n",
       "4      Aqua      MODIS          80    61.03       280.8   69.7        D     0  "
      ]
     },
     "execution_count": 2,
     "metadata": {},
     "output_type": "execute_result"
    }
   ],
   "source": [
    "df.head()"
   ]
  },
  {
   "cell_type": "code",
   "execution_count": 3,
   "id": "ed870515-5101-4024-aed6-94c9c7cb2ba1",
   "metadata": {},
   "outputs": [],
   "source": [
    "df = df[df['confidence'] >= 40]"
   ]
  },
  {
   "cell_type": "markdown",
   "id": "5179c2b5-7591-4b30-be9e-d67f2fa87971",
   "metadata": {},
   "source": [
    "## Data Preprocessing"
   ]
  },
  {
   "cell_type": "code",
   "execution_count": 4,
   "id": "de71fcb1-6413-42b4-8100-2ce7bbf092f3",
   "metadata": {},
   "outputs": [],
   "source": [
    "from sklearn.preprocessing import MinMaxScaler"
   ]
  },
  {
   "cell_type": "code",
   "execution_count": 5,
   "id": "4bd84668-082c-4abc-94c5-ee6dd8e3afd4",
   "metadata": {},
   "outputs": [],
   "source": [
    "scaler = MinMaxScaler()\n",
    "features_to_scale = ['brightness', 'scan', 'track', 'bright_t31', 'frp']\n",
    "df[features_to_scale] = scaler.fit_transform(df[features_to_scale])"
   ]
  },
  {
   "cell_type": "markdown",
   "id": "bfcdb834-4cb3-49a5-9469-47f5c9106160",
   "metadata": {},
   "source": [
    "# Feature Engineering"
   ]
  },
  {
   "cell_type": "code",
   "execution_count": 6,
   "id": "72a1c162-83e9-472a-8ab2-63718eca0753",
   "metadata": {},
   "outputs": [],
   "source": [
    "df['daynight'] = df['daynight'].map({'D': 1, 'N': 0})"
   ]
  },
  {
   "cell_type": "code",
   "execution_count": 7,
   "id": "d09fd89b-b3e3-41e7-aa05-df1fb1043778",
   "metadata": {},
   "outputs": [],
   "source": [
    "#Fire Risk Index\n",
    "df['fire_risk_index'] = df['brightness'] * df['frp'] * df['daynight']"
   ]
  },
  {
   "cell_type": "code",
   "execution_count": 8,
   "id": "1d41840f-9299-4bc9-9e9e-a75c059da602",
   "metadata": {},
   "outputs": [],
   "source": [
    "df['frp_lag1'] = df['frp'].shift(1)\n",
    "df['brightness_lag1'] = df['brightness'].shift(1)\n",
    "df = df.dropna()"
   ]
  },
  {
   "cell_type": "code",
   "execution_count": 26,
   "id": "42db358a-6e4e-4990-9cfa-8f0ddf3f4c01",
   "metadata": {},
   "outputs": [],
   "source": [
    "df['brightness/frp'] = df['brightness'] / (df['frp'] + 1e-3)\n",
    "df['temp_diff'] = df['brightness'] - df['bright_t31']"
   ]
  },
  {
   "cell_type": "code",
   "execution_count": 36,
   "id": "7a3933a2-87cb-4992-8285-64a3697f14cf",
   "metadata": {},
   "outputs": [],
   "source": [
    "df = df[df['type'].isin([0, 2])]\n"
   ]
  },
  {
   "cell_type": "code",
   "execution_count": 14,
   "id": "bf18a845-79cb-4d82-a672-b2a5310fa0d1",
   "metadata": {},
   "outputs": [],
   "source": [
    "df = df[df['type'].isin([0, 2])].copy()  # ← use .copy() to avoid side effects\n"
   ]
  },
  {
   "cell_type": "code",
   "execution_count": 15,
   "id": "36a8e02c-f534-413e-8628-c24e7953a033",
   "metadata": {},
   "outputs": [
    {
     "name": "stdout",
     "output_type": "stream",
     "text": [
      "type\n",
      "0    196\n",
      "2     69\n",
      "Name: count, dtype: int64\n"
     ]
    }
   ],
   "source": [
    "print(df['type'].value_counts())\n"
   ]
  },
  {
   "cell_type": "code",
   "execution_count": null,
   "id": "470826b5-22a9-4e83-9377-7bc8eb884ccc",
   "metadata": {},
   "outputs": [],
   "source": []
  },
  {
   "cell_type": "code",
   "execution_count": null,
   "id": "eac0a889-d01d-4324-a32f-8c54a39581a6",
   "metadata": {},
   "outputs": [],
   "source": []
  },
  {
   "cell_type": "markdown",
   "id": "b72ff9cf-73e8-4713-863b-4db8792db389",
   "metadata": {},
   "source": [
    "#  Model Building"
   ]
  },
  {
   "cell_type": "code",
   "execution_count": 16,
   "id": "cdeb7833-e205-4b9e-98e9-737a9a9dfb11",
   "metadata": {},
   "outputs": [],
   "source": [
    "from sklearn.model_selection import train_test_split\n",
    "from sklearn.ensemble import RandomForestClassifier"
   ]
  },
  {
   "cell_type": "code",
   "execution_count": 17,
   "id": "1c978c83-9235-497d-9a2c-af2988977c1c",
   "metadata": {},
   "outputs": [],
   "source": [
    "X = df[['brightness', 'frp', 'bright_t31', 'fire_risk_index', 'daynight']]\n",
    "y = df['type']  "
   ]
  },
  {
   "cell_type": "code",
   "execution_count": 20,
   "id": "a3c90925-d3fa-4cd3-9c7d-3d836bfa19d9",
   "metadata": {},
   "outputs": [
    {
     "name": "stdout",
     "output_type": "stream",
     "text": [
      "type\n",
      "0    196\n",
      "2     69\n",
      "Name: count, dtype: int64\n"
     ]
    }
   ],
   "source": [
    "print(y.value_counts())\n"
   ]
  },
  {
   "cell_type": "code",
   "execution_count": 19,
   "id": "dc7e21e5-a869-4140-8540-9ede01b0d121",
   "metadata": {},
   "outputs": [],
   "source": [
    "from imblearn.over_sampling import SMOTE\n",
    "\n",
    "sm = SMOTE()\n",
    "X_res, y_res = sm.fit_resample(X, y)\n"
   ]
  },
  {
   "cell_type": "code",
   "execution_count": 21,
   "id": "af9368c4-75d4-4d23-8982-86bca7af7898",
   "metadata": {},
   "outputs": [],
   "source": [
    "X_train, X_test, y_train, y_test = train_test_split(X_res, y_res, test_size=0.2, random_state=42)"
   ]
  },
  {
   "cell_type": "markdown",
   "id": "ed30aade-2791-4b97-9ae6-729effac3c8d",
   "metadata": {},
   "source": [
    "## Random forest"
   ]
  },
  {
   "cell_type": "code",
   "execution_count": 28,
   "id": "cc82b453-9c34-4441-9542-b1b104b59cf4",
   "metadata": {},
   "outputs": [
    {
     "data": {
      "text/html": [
       "<style>#sk-container-id-2 {color: black;}#sk-container-id-2 pre{padding: 0;}#sk-container-id-2 div.sk-toggleable {background-color: white;}#sk-container-id-2 label.sk-toggleable__label {cursor: pointer;display: block;width: 100%;margin-bottom: 0;padding: 0.3em;box-sizing: border-box;text-align: center;}#sk-container-id-2 label.sk-toggleable__label-arrow:before {content: \"▸\";float: left;margin-right: 0.25em;color: #696969;}#sk-container-id-2 label.sk-toggleable__label-arrow:hover:before {color: black;}#sk-container-id-2 div.sk-estimator:hover label.sk-toggleable__label-arrow:before {color: black;}#sk-container-id-2 div.sk-toggleable__content {max-height: 0;max-width: 0;overflow: hidden;text-align: left;background-color: #f0f8ff;}#sk-container-id-2 div.sk-toggleable__content pre {margin: 0.2em;color: black;border-radius: 0.25em;background-color: #f0f8ff;}#sk-container-id-2 input.sk-toggleable__control:checked~div.sk-toggleable__content {max-height: 200px;max-width: 100%;overflow: auto;}#sk-container-id-2 input.sk-toggleable__control:checked~label.sk-toggleable__label-arrow:before {content: \"▾\";}#sk-container-id-2 div.sk-estimator input.sk-toggleable__control:checked~label.sk-toggleable__label {background-color: #d4ebff;}#sk-container-id-2 div.sk-label input.sk-toggleable__control:checked~label.sk-toggleable__label {background-color: #d4ebff;}#sk-container-id-2 input.sk-hidden--visually {border: 0;clip: rect(1px 1px 1px 1px);clip: rect(1px, 1px, 1px, 1px);height: 1px;margin: -1px;overflow: hidden;padding: 0;position: absolute;width: 1px;}#sk-container-id-2 div.sk-estimator {font-family: monospace;background-color: #f0f8ff;border: 1px dotted black;border-radius: 0.25em;box-sizing: border-box;margin-bottom: 0.5em;}#sk-container-id-2 div.sk-estimator:hover {background-color: #d4ebff;}#sk-container-id-2 div.sk-parallel-item::after {content: \"\";width: 100%;border-bottom: 1px solid gray;flex-grow: 1;}#sk-container-id-2 div.sk-label:hover label.sk-toggleable__label {background-color: #d4ebff;}#sk-container-id-2 div.sk-serial::before {content: \"\";position: absolute;border-left: 1px solid gray;box-sizing: border-box;top: 0;bottom: 0;left: 50%;z-index: 0;}#sk-container-id-2 div.sk-serial {display: flex;flex-direction: column;align-items: center;background-color: white;padding-right: 0.2em;padding-left: 0.2em;position: relative;}#sk-container-id-2 div.sk-item {position: relative;z-index: 1;}#sk-container-id-2 div.sk-parallel {display: flex;align-items: stretch;justify-content: center;background-color: white;position: relative;}#sk-container-id-2 div.sk-item::before, #sk-container-id-2 div.sk-parallel-item::before {content: \"\";position: absolute;border-left: 1px solid gray;box-sizing: border-box;top: 0;bottom: 0;left: 50%;z-index: -1;}#sk-container-id-2 div.sk-parallel-item {display: flex;flex-direction: column;z-index: 1;position: relative;background-color: white;}#sk-container-id-2 div.sk-parallel-item:first-child::after {align-self: flex-end;width: 50%;}#sk-container-id-2 div.sk-parallel-item:last-child::after {align-self: flex-start;width: 50%;}#sk-container-id-2 div.sk-parallel-item:only-child::after {width: 0;}#sk-container-id-2 div.sk-dashed-wrapped {border: 1px dashed gray;margin: 0 0.4em 0.5em 0.4em;box-sizing: border-box;padding-bottom: 0.4em;background-color: white;}#sk-container-id-2 div.sk-label label {font-family: monospace;font-weight: bold;display: inline-block;line-height: 1.2em;}#sk-container-id-2 div.sk-label-container {text-align: center;}#sk-container-id-2 div.sk-container {/* jupyter's `normalize.less` sets `[hidden] { display: none; }` but bootstrap.min.css set `[hidden] { display: none !important; }` so we also need the `!important` here to be able to override the default hidden behavior on the sphinx rendered scikit-learn.org. See: https://github.com/scikit-learn/scikit-learn/issues/21755 */display: inline-block !important;position: relative;}#sk-container-id-2 div.sk-text-repr-fallback {display: none;}</style><div id=\"sk-container-id-2\" class=\"sk-top-container\"><div class=\"sk-text-repr-fallback\"><pre>RandomForestClassifier(class_weight=&#x27;balanced&#x27;)</pre><b>In a Jupyter environment, please rerun this cell to show the HTML representation or trust the notebook. <br />On GitHub, the HTML representation is unable to render, please try loading this page with nbviewer.org.</b></div><div class=\"sk-container\" hidden><div class=\"sk-item\"><div class=\"sk-estimator sk-toggleable\"><input class=\"sk-toggleable__control sk-hidden--visually\" id=\"sk-estimator-id-2\" type=\"checkbox\" checked><label for=\"sk-estimator-id-2\" class=\"sk-toggleable__label sk-toggleable__label-arrow\">RandomForestClassifier</label><div class=\"sk-toggleable__content\"><pre>RandomForestClassifier(class_weight=&#x27;balanced&#x27;)</pre></div></div></div></div></div>"
      ],
      "text/plain": [
       "RandomForestClassifier(class_weight='balanced')"
      ]
     },
     "execution_count": 28,
     "metadata": {},
     "output_type": "execute_result"
    }
   ],
   "source": [
    "clf = RandomForestClassifier(class_weight='balanced')\n",
    "clf.fit(X_train, y_train)\n"
   ]
  },
  {
   "cell_type": "code",
   "execution_count": 57,
   "id": "44bd739c-9e5b-4c1a-9763-64af8cc2aa6e",
   "metadata": {},
   "outputs": [
    {
     "name": "stdout",
     "output_type": "stream",
     "text": [
      "              precision    recall  f1-score   support\n",
      "\n",
      "           0       0.69      0.58      0.63        38\n",
      "           2       0.66      0.76      0.70        41\n",
      "\n",
      "    accuracy                           0.67        79\n",
      "   macro avg       0.67      0.67      0.67        79\n",
      "weighted avg       0.67      0.67      0.67        79\n",
      "\n"
     ]
    }
   ],
   "source": [
    "from sklearn.metrics import classification_report\n",
    "\n",
    "y_pred = clf.predict(X_test)\n",
    "print(classification_report(y_test, y_pred))"
   ]
  },
  {
   "cell_type": "markdown",
   "id": "2c9cf69b-91b6-4403-b118-9c2124f8e8f0",
   "metadata": {},
   "source": [
    "## xgboost "
   ]
  },
  {
   "cell_type": "code",
   "execution_count": 32,
   "id": "da3927a3-2125-4632-b741-4fbab772dc84",
   "metadata": {},
   "outputs": [],
   "source": [
    "from xgboost import XGBClassifier\n",
    "import numpy as np\n",
    "\n",
    "for missing_class in [0, 1, 2]:\n",
    "    if missing_class not in y_train.values:\n",
    "        X_train = pd.concat([X_train, X_train.iloc[[0]]])\n",
    "        y_train = pd.concat([y_train, pd.Series([missing_class])])\n"
   ]
  },
  {
   "cell_type": "code",
   "execution_count": 33,
   "id": "1df6ea00-4782-4285-918b-e0a4c0ca4c0b",
   "metadata": {},
   "outputs": [
    {
     "name": "stderr",
     "output_type": "stream",
     "text": [
      "C:\\Users\\Shubam\\anaconda31\\envs\\ns\\lib\\site-packages\\xgboost\\training.py:183: UserWarning: [11:58:46] WARNING: C:\\actions-runner\\_work\\xgboost\\xgboost\\src\\learner.cc:738: \n",
      "Parameters: { \"use_label_encoder\" } are not used.\n",
      "\n",
      "  bst.update(dtrain, iteration=i, fobj=obj)\n"
     ]
    },
    {
     "data": {
      "text/html": [
       "<style>#sk-container-id-3 {color: black;}#sk-container-id-3 pre{padding: 0;}#sk-container-id-3 div.sk-toggleable {background-color: white;}#sk-container-id-3 label.sk-toggleable__label {cursor: pointer;display: block;width: 100%;margin-bottom: 0;padding: 0.3em;box-sizing: border-box;text-align: center;}#sk-container-id-3 label.sk-toggleable__label-arrow:before {content: \"▸\";float: left;margin-right: 0.25em;color: #696969;}#sk-container-id-3 label.sk-toggleable__label-arrow:hover:before {color: black;}#sk-container-id-3 div.sk-estimator:hover label.sk-toggleable__label-arrow:before {color: black;}#sk-container-id-3 div.sk-toggleable__content {max-height: 0;max-width: 0;overflow: hidden;text-align: left;background-color: #f0f8ff;}#sk-container-id-3 div.sk-toggleable__content pre {margin: 0.2em;color: black;border-radius: 0.25em;background-color: #f0f8ff;}#sk-container-id-3 input.sk-toggleable__control:checked~div.sk-toggleable__content {max-height: 200px;max-width: 100%;overflow: auto;}#sk-container-id-3 input.sk-toggleable__control:checked~label.sk-toggleable__label-arrow:before {content: \"▾\";}#sk-container-id-3 div.sk-estimator input.sk-toggleable__control:checked~label.sk-toggleable__label {background-color: #d4ebff;}#sk-container-id-3 div.sk-label input.sk-toggleable__control:checked~label.sk-toggleable__label {background-color: #d4ebff;}#sk-container-id-3 input.sk-hidden--visually {border: 0;clip: rect(1px 1px 1px 1px);clip: rect(1px, 1px, 1px, 1px);height: 1px;margin: -1px;overflow: hidden;padding: 0;position: absolute;width: 1px;}#sk-container-id-3 div.sk-estimator {font-family: monospace;background-color: #f0f8ff;border: 1px dotted black;border-radius: 0.25em;box-sizing: border-box;margin-bottom: 0.5em;}#sk-container-id-3 div.sk-estimator:hover {background-color: #d4ebff;}#sk-container-id-3 div.sk-parallel-item::after {content: \"\";width: 100%;border-bottom: 1px solid gray;flex-grow: 1;}#sk-container-id-3 div.sk-label:hover label.sk-toggleable__label {background-color: #d4ebff;}#sk-container-id-3 div.sk-serial::before {content: \"\";position: absolute;border-left: 1px solid gray;box-sizing: border-box;top: 0;bottom: 0;left: 50%;z-index: 0;}#sk-container-id-3 div.sk-serial {display: flex;flex-direction: column;align-items: center;background-color: white;padding-right: 0.2em;padding-left: 0.2em;position: relative;}#sk-container-id-3 div.sk-item {position: relative;z-index: 1;}#sk-container-id-3 div.sk-parallel {display: flex;align-items: stretch;justify-content: center;background-color: white;position: relative;}#sk-container-id-3 div.sk-item::before, #sk-container-id-3 div.sk-parallel-item::before {content: \"\";position: absolute;border-left: 1px solid gray;box-sizing: border-box;top: 0;bottom: 0;left: 50%;z-index: -1;}#sk-container-id-3 div.sk-parallel-item {display: flex;flex-direction: column;z-index: 1;position: relative;background-color: white;}#sk-container-id-3 div.sk-parallel-item:first-child::after {align-self: flex-end;width: 50%;}#sk-container-id-3 div.sk-parallel-item:last-child::after {align-self: flex-start;width: 50%;}#sk-container-id-3 div.sk-parallel-item:only-child::after {width: 0;}#sk-container-id-3 div.sk-dashed-wrapped {border: 1px dashed gray;margin: 0 0.4em 0.5em 0.4em;box-sizing: border-box;padding-bottom: 0.4em;background-color: white;}#sk-container-id-3 div.sk-label label {font-family: monospace;font-weight: bold;display: inline-block;line-height: 1.2em;}#sk-container-id-3 div.sk-label-container {text-align: center;}#sk-container-id-3 div.sk-container {/* jupyter's `normalize.less` sets `[hidden] { display: none; }` but bootstrap.min.css set `[hidden] { display: none !important; }` so we also need the `!important` here to be able to override the default hidden behavior on the sphinx rendered scikit-learn.org. See: https://github.com/scikit-learn/scikit-learn/issues/21755 */display: inline-block !important;position: relative;}#sk-container-id-3 div.sk-text-repr-fallback {display: none;}</style><div id=\"sk-container-id-3\" class=\"sk-top-container\"><div class=\"sk-text-repr-fallback\"><pre>XGBClassifier(base_score=None, booster=None, callbacks=None,\n",
       "              colsample_bylevel=None, colsample_bynode=None,\n",
       "              colsample_bytree=None, device=None, early_stopping_rounds=None,\n",
       "              enable_categorical=False, eval_metric=&#x27;mlogloss&#x27;,\n",
       "              feature_types=None, feature_weights=None, gamma=None,\n",
       "              grow_policy=None, importance_type=None,\n",
       "              interaction_constraints=None, learning_rate=None, max_bin=None,\n",
       "              max_cat_threshold=None, max_cat_to_onehot=None,\n",
       "              max_delta_step=None, max_depth=None, max_leaves=None,\n",
       "              min_child_weight=None, missing=nan, monotone_constraints=None,\n",
       "              multi_strategy=None, n_estimators=None, n_jobs=None,\n",
       "              num_parallel_tree=None, ...)</pre><b>In a Jupyter environment, please rerun this cell to show the HTML representation or trust the notebook. <br />On GitHub, the HTML representation is unable to render, please try loading this page with nbviewer.org.</b></div><div class=\"sk-container\" hidden><div class=\"sk-item\"><div class=\"sk-estimator sk-toggleable\"><input class=\"sk-toggleable__control sk-hidden--visually\" id=\"sk-estimator-id-3\" type=\"checkbox\" checked><label for=\"sk-estimator-id-3\" class=\"sk-toggleable__label sk-toggleable__label-arrow\">XGBClassifier</label><div class=\"sk-toggleable__content\"><pre>XGBClassifier(base_score=None, booster=None, callbacks=None,\n",
       "              colsample_bylevel=None, colsample_bynode=None,\n",
       "              colsample_bytree=None, device=None, early_stopping_rounds=None,\n",
       "              enable_categorical=False, eval_metric=&#x27;mlogloss&#x27;,\n",
       "              feature_types=None, feature_weights=None, gamma=None,\n",
       "              grow_policy=None, importance_type=None,\n",
       "              interaction_constraints=None, learning_rate=None, max_bin=None,\n",
       "              max_cat_threshold=None, max_cat_to_onehot=None,\n",
       "              max_delta_step=None, max_depth=None, max_leaves=None,\n",
       "              min_child_weight=None, missing=nan, monotone_constraints=None,\n",
       "              multi_strategy=None, n_estimators=None, n_jobs=None,\n",
       "              num_parallel_tree=None, ...)</pre></div></div></div></div></div>"
      ],
      "text/plain": [
       "XGBClassifier(base_score=None, booster=None, callbacks=None,\n",
       "              colsample_bylevel=None, colsample_bynode=None,\n",
       "              colsample_bytree=None, device=None, early_stopping_rounds=None,\n",
       "              enable_categorical=False, eval_metric='mlogloss',\n",
       "              feature_types=None, feature_weights=None, gamma=None,\n",
       "              grow_policy=None, importance_type=None,\n",
       "              interaction_constraints=None, learning_rate=None, max_bin=None,\n",
       "              max_cat_threshold=None, max_cat_to_onehot=None,\n",
       "              max_delta_step=None, max_depth=None, max_leaves=None,\n",
       "              min_child_weight=None, missing=nan, monotone_constraints=None,\n",
       "              multi_strategy=None, n_estimators=None, n_jobs=None,\n",
       "              num_parallel_tree=None, ...)"
      ]
     },
     "execution_count": 33,
     "metadata": {},
     "output_type": "execute_result"
    }
   ],
   "source": [
    "from xgboost import XGBClassifier\n",
    "xgb = XGBClassifier(use_label_encoder=False, eval_metric='mlogloss')\n",
    "xgb.fit(X_train, y_train)\n"
   ]
  },
  {
   "cell_type": "code",
   "execution_count": 56,
   "id": "88917a97-37eb-4ec3-a890-b39b9d9d600e",
   "metadata": {},
   "outputs": [
    {
     "name": "stdout",
     "output_type": "stream",
     "text": [
      "              precision    recall  f1-score   support\n",
      "\n",
      "           0       0.74      0.66      0.69        38\n",
      "           2       0.71      0.78      0.74        41\n",
      "\n",
      "    accuracy                           0.72        79\n",
      "   macro avg       0.72      0.72      0.72        79\n",
      "weighted avg       0.72      0.72      0.72        79\n",
      "\n"
     ]
    }
   ],
   "source": [
    "from sklearn.metrics import classification_report\n",
    "\n",
    "y_pred = xgb.predict(X_test)\n",
    "print(classification_report(y_test, y_pred))"
   ]
  },
  {
   "cell_type": "markdown",
   "id": "08aaea0e-e5af-4257-9632-d22cb45faf3d",
   "metadata": {},
   "source": [
    "## GCN Graph based"
   ]
  },
  {
   "cell_type": "code",
   "execution_count": 36,
   "id": "bf9396fc-4d99-496f-bd59-c7a449179591",
   "metadata": {},
   "outputs": [],
   "source": [
    "import torch\n",
    "from torch_geometric.data import Data\n",
    "from sklearn.preprocessing import StandardScaler\n",
    "from scipy.spatial import distance_matrix\n",
    "import numpy as np\n",
    "\n",
    "# ✅ Preprocess features\n",
    "df = df[df['type'].isin([0, 2])]\n",
    "features = df[['brightness', 'frp', 'bright_t31', 'daynight']].values\n",
    "scaler = StandardScaler()\n",
    "features = scaler.fit_transform(features)"
   ]
  },
  {
   "cell_type": "code",
   "execution_count": 38,
   "id": "d71d5b7d-5363-475d-a22b-c5b9941cf2c5",
   "metadata": {},
   "outputs": [],
   "source": [
    "positions = df[['latitude', 'longitude']].values\n",
    "dists = distance_matrix(positions, positions)"
   ]
  },
  {
   "cell_type": "code",
   "execution_count": 39,
   "id": "5ba0be98-b5cb-4829-b1fd-8cf342424d28",
   "metadata": {},
   "outputs": [],
   "source": [
    "edge_index = []\n",
    "threshold = 0.5  # degree distance\n",
    "for i in range(len(dists)):\n",
    "    for j in range(len(dists)):\n",
    "        if i != j and dists[i, j] < threshold:\n",
    "            edge_index.append([i, j])\n",
    "edge_index = torch.tensor(edge_index, dtype=torch.long).t().contiguous()"
   ]
  },
  {
   "cell_type": "code",
   "execution_count": 44,
   "id": "028794cc-ef89-49e0-9c21-c848c3e749e8",
   "metadata": {},
   "outputs": [],
   "source": [
    "df = df[df['type'].isin([0, 2])].copy()\n",
    "df['type'] = df['type'].map({0: 0, 2: 1})  # 🔁 remap class 2 → 1\n"
   ]
  },
  {
   "cell_type": "code",
   "execution_count": 45,
   "id": "4cb6e74e-a3d0-4eae-afab-236c42f6ff05",
   "metadata": {},
   "outputs": [],
   "source": [
    "x = torch.tensor(features, dtype=torch.float)\n",
    "y = torch.tensor(df['type'].values, dtype=torch.long)\n"
   ]
  },
  {
   "cell_type": "code",
   "execution_count": 46,
   "id": "1fd70ef7-938d-4801-a838-5bf5f8b01470",
   "metadata": {},
   "outputs": [],
   "source": [
    "data = Data(x=x, edge_index=edge_index, y=y)"
   ]
  },
  {
   "cell_type": "code",
   "execution_count": 47,
   "id": "2bc2a8c4-1874-459e-8620-a5dc65ba7b46",
   "metadata": {},
   "outputs": [],
   "source": [
    "from torch_geometric.nn import GCNConv\n",
    "import torch.nn.functional as F\n",
    "import torch.nn as nn\n",
    "\n",
    "class GCN(torch.nn.Module):\n",
    "    def __init__(self, in_channels, hidden_channels, out_channels):\n",
    "        super().__init__()\n",
    "        self.conv1 = GCNConv(in_channels, hidden_channels)\n",
    "        self.conv2 = GCNConv(hidden_channels, out_channels)\n",
    "\n",
    "    def forward(self, data):\n",
    "        x, edge_index = data.x, data.edge_index\n",
    "        x = self.conv1(x, edge_index)\n",
    "        x = F.relu(x)\n",
    "        x = self.conv2(x, edge_index)\n",
    "        return F.log_softmax(x, dim=1)\n"
   ]
  },
  {
   "cell_type": "code",
   "execution_count": 48,
   "id": "dcd6549c-99a7-44c8-9243-e4d157e287ea",
   "metadata": {},
   "outputs": [
    {
     "name": "stdout",
     "output_type": "stream",
     "text": [
      "Epoch 0 Loss: 0.6940\n",
      "Epoch 20 Loss: 0.3465\n",
      "Epoch 40 Loss: 0.2900\n",
      "Epoch 60 Loss: 0.2694\n",
      "Epoch 80 Loss: 0.2537\n",
      "Epoch 100 Loss: 0.2408\n",
      "Epoch 120 Loss: 0.2307\n",
      "Epoch 140 Loss: 0.2224\n",
      "Epoch 160 Loss: 0.2144\n",
      "Epoch 180 Loss: 0.2077\n"
     ]
    }
   ],
   "source": [
    "device = torch.device('cuda' if torch.cuda.is_available() else 'cpu')\n",
    "model = GCN(in_channels=x.shape[1], hidden_channels=16, out_channels=2).to(device)\n",
    "data = data.to(device)\n",
    "optimizer = torch.optim.Adam(model.parameters(), lr=0.01)\n",
    "\n",
    "model.train()\n",
    "for epoch in range(200):\n",
    "    optimizer.zero_grad()\n",
    "    out = model(data)\n",
    "    loss = F.nll_loss(out, data.y)\n",
    "    loss.backward()\n",
    "    optimizer.step()\n",
    "    if epoch % 20 == 0:\n",
    "        print(f'Epoch {epoch} Loss: {loss.item():.4f}')\n"
   ]
  },
  {
   "cell_type": "code",
   "execution_count": 49,
   "id": "ba865b3a-8c67-4a13-bf2d-06c1379cd0ab",
   "metadata": {},
   "outputs": [
    {
     "name": "stdout",
     "output_type": "stream",
     "text": [
      "Accuracy: 0.9358\n"
     ]
    }
   ],
   "source": [
    "model.eval()\n",
    "_, pred = model(data).max(dim=1)\n",
    "correct = (pred == data.y).sum().item()\n",
    "acc = correct / len(data.y)\n",
    "print(f'Accuracy: {acc:.4f}')\n"
   ]
  },
  {
   "cell_type": "code",
   "execution_count": 50,
   "id": "718bb3f0-ea5f-4862-97b5-3036397b2edd",
   "metadata": {},
   "outputs": [],
   "source": [
    "model.eval()\n",
    "_, preds = model(data).max(dim=1)  # predicted class (0 or 1)\n",
    "\n",
    "preds = preds.cpu().numpy()\n",
    "labels = data.y.cpu().numpy()\n",
    "coords = df[['latitude', 'longitude']].values\n"
   ]
  },
  {
   "cell_type": "code",
   "execution_count": 51,
   "id": "39c83f9b-8543-4cca-b172-609b074b8e24",
   "metadata": {},
   "outputs": [
    {
     "data": {
      "image/png": "[encoded data removed]",
      "text/plain": [
       "<Figure size 1000x600 with 2 Axes>"
      ]
     },
     "metadata": {},
     "output_type": "display_data"
    }
   ],
   "source": [
    "import matplotlib.pyplot as plt\n",
    "\n",
    "plt.figure(figsize=(10, 6))\n",
    "\n",
    "# ✅ Ground Truth\n",
    "plt.subplot(1, 2, 1)\n",
    "plt.title(\"Ground Truth\")\n",
    "plt.scatter(coords[:, 1], coords[:, 0], c=labels, cmap='coolwarm', s=30)\n",
    "plt.xlabel(\"Longitude\")\n",
    "plt.ylabel(\"Latitude\")\n",
    "\n",
    "# ✅ GCN Predictions\n",
    "plt.subplot(1, 2, 2)\n",
    "plt.title(\"GCN Predictions\")\n",
    "plt.scatter(coords[:, 1], coords[:, 0], c=preds, cmap='coolwarm', s=30)\n",
    "plt.xlabel(\"Longitude\")\n",
    "plt.ylabel(\"Latitude\")\n",
    "\n",
    "plt.tight_layout()\n",
    "plt.show()\n"
   ]
  },
  {
   "cell_type": "code",
   "execution_count": 52,
   "id": "de43e426-8f12-4f9d-a83e-95189788c565",
   "metadata": {},
   "outputs": [],
   "source": [
    "import folium\n",
    "from folium.plugins import MarkerCluster\n",
    "\n",
    "# Reuse coords, preds from earlier\n",
    "coords = df[['latitude', 'longitude']].values\n",
    "model.eval()\n",
    "_, preds = model(data).max(dim=1)\n",
    "preds = preds.cpu().numpy()\n",
    "\n",
    "# Center map\n",
    "center_lat, center_lon = coords[:, 0].mean(), coords[:, 1].mean()\n",
    "m = folium.Map(location=[center_lat, center_lon], zoom_start=5)\n",
    "\n",
    "marker_cluster = MarkerCluster().add_to(m)\n",
    "\n",
    "# 🔴 = fire (class 1), 🔵 = not fire (class 0)\n",
    "for i in range(len(coords)):\n",
    "    color = 'red' if preds[i] == 1 else 'blue'\n",
    "    folium.CircleMarker(\n",
    "        location=[coords[i][0], coords[i][1]],\n",
    "        radius=5,\n",
    "        color=color,\n",
    "        fill=True,\n",
    "        fill_color=color,\n",
    "        fill_opacity=0.7,\n",
    "        popup=f\"Prediction: {'🔥 Fire Risk' if preds[i] == 1 else '✅ No Risk'}\"\n",
    "    ).add_to(marker_cluster)\n",
    "\n",
    "# Save and view\n",
    "m.save(\"fire_risk_map.html\")\n"
   ]
  },
  {
   "cell_type": "code",
   "execution_count": 53,
   "id": "20c9ffd1-4523-475d-ae58-815ae1eb92ea",
   "metadata": {},
   "outputs": [
    {
     "data": {
      "text/html": [
       "\n",
       "        <iframe\n",
       "            width=\"900\"\n",
       "            height=\"600\"\n",
       "            src=\"fire_risk_map.html\"\n",
       "            frameborder=\"0\"\n",
       "            allowfullscreen\n",
       "            \n",
       "        ></iframe>\n",
       "        "
      ],
      "text/plain": [
       "<IPython.lib.display.IFrame at 0x201df3b6bf0>"
      ]
     },
     "execution_count": 53,
     "metadata": {},
     "output_type": "execute_result"
    }
   ],
   "source": [
    "from IPython.display import IFrame\n",
    "\n",
    "m.save(\"fire_risk_map.html\")\n",
    "IFrame(\"fire_risk_map.html\", width=900, height=600)\n"
   ]
  },
  {
   "cell_type": "code",
   "execution_count": 54,
   "id": "a44ac447-96ae-4112-a16e-b1094a94a331",
   "metadata": {},
   "outputs": [],
   "source": [
    "import torch\n",
    "\n",
    "torch.save(model.state_dict(), \"gcn_fire_model.pt\")\n"
   ]
  },
  {
   "cell_type": "code",
   "execution_count": 55,
   "id": "ab5e31ff-2df5-417f-a1f4-5c52dc79379c",
   "metadata": {},
   "outputs": [
    {
     "data": {
      "text/plain": [
       "['scaler_fire.pkl']"
      ]
     },
     "execution_count": 55,
     "metadata": {},
     "output_type": "execute_result"
    }
   ],
   "source": [
    "import joblib\n",
    "\n",
    "joblib.dump(scaler, \"scaler_fire.pkl\")\n"
   ]
  },
  {
   "cell_type": "code",
   "execution_count": null,
   "id": "e6d32660-76f9-4510-9d61-8ba9b547b3e6",
   "metadata": {},
   "outputs": [],
   "source": []
  }
 ],
 "metadata": {
  "kernelspec": {
   "display_name": "Python 3 (ipykernel)",
   "language": "python",
   "name": "python3"
  },
  "language_info": {
   "codemirror_mode": {
    "name": "ipython",
    "version": 3
   },
   "file_extension": ".py",
   "mimetype": "text/x-python",
   "name": "python",
   "nbconvert_exporter": "python",
   "pygments_lexer": "ipython3",
   "version": "3.10.18"
  }
 },
 "nbformat": 4,
 "nbformat_minor": 5
}
